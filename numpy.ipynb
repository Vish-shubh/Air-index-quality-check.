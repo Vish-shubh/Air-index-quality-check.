{
  "cells": [
    {
      "cell_type": "markdown",
      "metadata": {
        "id": "view-in-github",
        "colab_type": "text"
      },
      "source": [
        "<a href=\"https://colab.research.google.com/github/Vish-shubh/Air-index-quality-check./blob/main/numpy.ipynb\" target=\"_parent\"><img src=\"https://colab.research.google.com/assets/colab-badge.svg\" alt=\"Open In Colab\"/></a>"
      ]
    },
    {
      "cell_type": "code",
      "source": [
        "import pandas as pd\n",
        "import numpy as np\n",
        "import matplotlib.pyplot as plt\n",
        "import seaborn as sns"
      ],
      "metadata": {
        "id": "pNpZio0903aT"
      },
      "execution_count": 15,
      "outputs": []
    },
    {
      "cell_type": "code",
      "source": [
        "df = pd.read_csv('city_day.csv')\n",
        "df.head()"
      ],
      "metadata": {
        "colab": {
          "base_uri": "https://localhost:8080/",
          "height": 357
        },
        "id": "V4ZJyvRf09zI",
        "outputId": "1b7e167c-354e-4280-fa6b-9f79c79ab925"
      },
      "execution_count": 47,
      "outputs": [
        {
          "output_type": "execute_result",
          "data": {
            "text/plain": [
              "        City        Date  PM2.5  PM10     NO    NO2    NOx  NH3     CO    SO2  \\\n",
              "0  Ahmedabad  2015-01-01    NaN   NaN   0.92  18.22  17.15  NaN   0.92  27.64   \n",
              "1  Ahmedabad  2015-01-02    NaN   NaN   0.97  15.69  16.46  NaN   0.97  24.55   \n",
              "2  Ahmedabad  2015-01-03    NaN   NaN  17.40  19.30  29.70  NaN  17.40  29.07   \n",
              "3  Ahmedabad  2015-01-04    NaN   NaN   1.70  18.48  17.97  NaN   1.70  18.59   \n",
              "4  Ahmedabad  2015-01-05    NaN   NaN  22.10  21.42  37.76  NaN  22.10  39.33   \n",
              "\n",
              "       O3  Benzene  Toluene  Xylene  AQI AQI_Bucket  \n",
              "0  133.36     0.00     0.02    0.00  NaN        NaN  \n",
              "1   34.06     3.68     5.50    3.77  NaN        NaN  \n",
              "2   30.70     6.80    16.40    2.25  NaN        NaN  \n",
              "3   36.08     4.43    10.14    1.00  NaN        NaN  \n",
              "4   39.31     7.01    18.89    2.78  NaN        NaN  "
            ],
            "text/html": [
              "\n",
              "  <div id=\"df-62afa117-576f-4a84-adc7-344cc2d1152c\">\n",
              "    <div class=\"colab-df-container\">\n",
              "      <div>\n",
              "<style scoped>\n",
              "    .dataframe tbody tr th:only-of-type {\n",
              "        vertical-align: middle;\n",
              "    }\n",
              "\n",
              "    .dataframe tbody tr th {\n",
              "        vertical-align: top;\n",
              "    }\n",
              "\n",
              "    .dataframe thead th {\n",
              "        text-align: right;\n",
              "    }\n",
              "</style>\n",
              "<table border=\"1\" class=\"dataframe\">\n",
              "  <thead>\n",
              "    <tr style=\"text-align: right;\">\n",
              "      <th></th>\n",
              "      <th>City</th>\n",
              "      <th>Date</th>\n",
              "      <th>PM2.5</th>\n",
              "      <th>PM10</th>\n",
              "      <th>NO</th>\n",
              "      <th>NO2</th>\n",
              "      <th>NOx</th>\n",
              "      <th>NH3</th>\n",
              "      <th>CO</th>\n",
              "      <th>SO2</th>\n",
              "      <th>O3</th>\n",
              "      <th>Benzene</th>\n",
              "      <th>Toluene</th>\n",
              "      <th>Xylene</th>\n",
              "      <th>AQI</th>\n",
              "      <th>AQI_Bucket</th>\n",
              "    </tr>\n",
              "  </thead>\n",
              "  <tbody>\n",
              "    <tr>\n",
              "      <th>0</th>\n",
              "      <td>Ahmedabad</td>\n",
              "      <td>2015-01-01</td>\n",
              "      <td>NaN</td>\n",
              "      <td>NaN</td>\n",
              "      <td>0.92</td>\n",
              "      <td>18.22</td>\n",
              "      <td>17.15</td>\n",
              "      <td>NaN</td>\n",
              "      <td>0.92</td>\n",
              "      <td>27.64</td>\n",
              "      <td>133.36</td>\n",
              "      <td>0.00</td>\n",
              "      <td>0.02</td>\n",
              "      <td>0.00</td>\n",
              "      <td>NaN</td>\n",
              "      <td>NaN</td>\n",
              "    </tr>\n",
              "    <tr>\n",
              "      <th>1</th>\n",
              "      <td>Ahmedabad</td>\n",
              "      <td>2015-01-02</td>\n",
              "      <td>NaN</td>\n",
              "      <td>NaN</td>\n",
              "      <td>0.97</td>\n",
              "      <td>15.69</td>\n",
              "      <td>16.46</td>\n",
              "      <td>NaN</td>\n",
              "      <td>0.97</td>\n",
              "      <td>24.55</td>\n",
              "      <td>34.06</td>\n",
              "      <td>3.68</td>\n",
              "      <td>5.50</td>\n",
              "      <td>3.77</td>\n",
              "      <td>NaN</td>\n",
              "      <td>NaN</td>\n",
              "    </tr>\n",
              "    <tr>\n",
              "      <th>2</th>\n",
              "      <td>Ahmedabad</td>\n",
              "      <td>2015-01-03</td>\n",
              "      <td>NaN</td>\n",
              "      <td>NaN</td>\n",
              "      <td>17.40</td>\n",
              "      <td>19.30</td>\n",
              "      <td>29.70</td>\n",
              "      <td>NaN</td>\n",
              "      <td>17.40</td>\n",
              "      <td>29.07</td>\n",
              "      <td>30.70</td>\n",
              "      <td>6.80</td>\n",
              "      <td>16.40</td>\n",
              "      <td>2.25</td>\n",
              "      <td>NaN</td>\n",
              "      <td>NaN</td>\n",
              "    </tr>\n",
              "    <tr>\n",
              "      <th>3</th>\n",
              "      <td>Ahmedabad</td>\n",
              "      <td>2015-01-04</td>\n",
              "      <td>NaN</td>\n",
              "      <td>NaN</td>\n",
              "      <td>1.70</td>\n",
              "      <td>18.48</td>\n",
              "      <td>17.97</td>\n",
              "      <td>NaN</td>\n",
              "      <td>1.70</td>\n",
              "      <td>18.59</td>\n",
              "      <td>36.08</td>\n",
              "      <td>4.43</td>\n",
              "      <td>10.14</td>\n",
              "      <td>1.00</td>\n",
              "      <td>NaN</td>\n",
              "      <td>NaN</td>\n",
              "    </tr>\n",
              "    <tr>\n",
              "      <th>4</th>\n",
              "      <td>Ahmedabad</td>\n",
              "      <td>2015-01-05</td>\n",
              "      <td>NaN</td>\n",
              "      <td>NaN</td>\n",
              "      <td>22.10</td>\n",
              "      <td>21.42</td>\n",
              "      <td>37.76</td>\n",
              "      <td>NaN</td>\n",
              "      <td>22.10</td>\n",
              "      <td>39.33</td>\n",
              "      <td>39.31</td>\n",
              "      <td>7.01</td>\n",
              "      <td>18.89</td>\n",
              "      <td>2.78</td>\n",
              "      <td>NaN</td>\n",
              "      <td>NaN</td>\n",
              "    </tr>\n",
              "  </tbody>\n",
              "</table>\n",
              "</div>\n",
              "      <button class=\"colab-df-convert\" onclick=\"convertToInteractive('df-62afa117-576f-4a84-adc7-344cc2d1152c')\"\n",
              "              title=\"Convert this dataframe to an interactive table.\"\n",
              "              style=\"display:none;\">\n",
              "        \n",
              "  <svg xmlns=\"http://www.w3.org/2000/svg\" height=\"24px\"viewBox=\"0 0 24 24\"\n",
              "       width=\"24px\">\n",
              "    <path d=\"M0 0h24v24H0V0z\" fill=\"none\"/>\n",
              "    <path d=\"M18.56 5.44l.94 2.06.94-2.06 2.06-.94-2.06-.94-.94-2.06-.94 2.06-2.06.94zm-11 1L8.5 8.5l.94-2.06 2.06-.94-2.06-.94L8.5 2.5l-.94 2.06-2.06.94zm10 10l.94 2.06.94-2.06 2.06-.94-2.06-.94-.94-2.06-.94 2.06-2.06.94z\"/><path d=\"M17.41 7.96l-1.37-1.37c-.4-.4-.92-.59-1.43-.59-.52 0-1.04.2-1.43.59L10.3 9.45l-7.72 7.72c-.78.78-.78 2.05 0 2.83L4 21.41c.39.39.9.59 1.41.59.51 0 1.02-.2 1.41-.59l7.78-7.78 2.81-2.81c.8-.78.8-2.07 0-2.86zM5.41 20L4 18.59l7.72-7.72 1.47 1.35L5.41 20z\"/>\n",
              "  </svg>\n",
              "      </button>\n",
              "      \n",
              "  <style>\n",
              "    .colab-df-container {\n",
              "      display:flex;\n",
              "      flex-wrap:wrap;\n",
              "      gap: 12px;\n",
              "    }\n",
              "\n",
              "    .colab-df-convert {\n",
              "      background-color: #E8F0FE;\n",
              "      border: none;\n",
              "      border-radius: 50%;\n",
              "      cursor: pointer;\n",
              "      display: none;\n",
              "      fill: #1967D2;\n",
              "      height: 32px;\n",
              "      padding: 0 0 0 0;\n",
              "      width: 32px;\n",
              "    }\n",
              "\n",
              "    .colab-df-convert:hover {\n",
              "      background-color: #E2EBFA;\n",
              "      box-shadow: 0px 1px 2px rgba(60, 64, 67, 0.3), 0px 1px 3px 1px rgba(60, 64, 67, 0.15);\n",
              "      fill: #174EA6;\n",
              "    }\n",
              "\n",
              "    [theme=dark] .colab-df-convert {\n",
              "      background-color: #3B4455;\n",
              "      fill: #D2E3FC;\n",
              "    }\n",
              "\n",
              "    [theme=dark] .colab-df-convert:hover {\n",
              "      background-color: #434B5C;\n",
              "      box-shadow: 0px 1px 3px 1px rgba(0, 0, 0, 0.15);\n",
              "      filter: drop-shadow(0px 1px 2px rgba(0, 0, 0, 0.3));\n",
              "      fill: #FFFFFF;\n",
              "    }\n",
              "  </style>\n",
              "\n",
              "      <script>\n",
              "        const buttonEl =\n",
              "          document.querySelector('#df-62afa117-576f-4a84-adc7-344cc2d1152c button.colab-df-convert');\n",
              "        buttonEl.style.display =\n",
              "          google.colab.kernel.accessAllowed ? 'block' : 'none';\n",
              "\n",
              "        async function convertToInteractive(key) {\n",
              "          const element = document.querySelector('#df-62afa117-576f-4a84-adc7-344cc2d1152c');\n",
              "          const dataTable =\n",
              "            await google.colab.kernel.invokeFunction('convertToInteractive',\n",
              "                                                     [key], {});\n",
              "          if (!dataTable) return;\n",
              "\n",
              "          const docLinkHtml = 'Like what you see? Visit the ' +\n",
              "            '<a target=\"_blank\" href=https://colab.research.google.com/notebooks/data_table.ipynb>data table notebook</a>'\n",
              "            + ' to learn more about interactive tables.';\n",
              "          element.innerHTML = '';\n",
              "          dataTable['output_type'] = 'display_data';\n",
              "          await google.colab.output.renderOutput(dataTable, element);\n",
              "          const docLink = document.createElement('div');\n",
              "          docLink.innerHTML = docLinkHtml;\n",
              "          element.appendChild(docLink);\n",
              "        }\n",
              "      </script>\n",
              "    </div>\n",
              "  </div>\n",
              "  "
            ]
          },
          "metadata": {},
          "execution_count": 47
        }
      ]
    },
    {
      "cell_type": "code",
      "source": [
        "\n",
        "df.shape"
      ],
      "metadata": {
        "colab": {
          "base_uri": "https://localhost:8080/"
        },
        "id": "NnUnxyF03maz",
        "outputId": "1562f60c-1ec8-42d0-9deb-1754bb216b49"
      },
      "execution_count": 40,
      "outputs": [
        {
          "output_type": "execute_result",
          "data": {
            "text/plain": [
              "(29531, 16)"
            ]
          },
          "metadata": {},
          "execution_count": 40
        }
      ]
    },
    {
      "cell_type": "code",
      "source": [
        "df.info()"
      ],
      "metadata": {
        "colab": {
          "base_uri": "https://localhost:8080/"
        },
        "id": "VqqDnvmP3yrf",
        "outputId": "15a7ab5c-1a19-44cf-9966-09bc34b9882f"
      },
      "execution_count": 42,
      "outputs": [
        {
          "output_type": "stream",
          "name": "stdout",
          "text": [
            "<class 'pandas.core.frame.DataFrame'>\n",
            "RangeIndex: 29531 entries, 0 to 29530\n",
            "Data columns (total 16 columns):\n",
            " #   Column      Non-Null Count  Dtype  \n",
            "---  ------      --------------  -----  \n",
            " 0   City        29531 non-null  object \n",
            " 1   Date        29531 non-null  object \n",
            " 2   PM2.5       24933 non-null  float64\n",
            " 3   PM10        18391 non-null  float64\n",
            " 4   NO          25949 non-null  float64\n",
            " 5   NO2         25946 non-null  float64\n",
            " 6   NOx         25346 non-null  float64\n",
            " 7   NH3         19203 non-null  float64\n",
            " 8   CO          27472 non-null  float64\n",
            " 9   SO2         25677 non-null  float64\n",
            " 10  O3          25509 non-null  float64\n",
            " 11  Benzene     23908 non-null  float64\n",
            " 12  Toluene     21490 non-null  float64\n",
            " 13  Xylene      11422 non-null  float64\n",
            " 14  AQI         24850 non-null  float64\n",
            " 15  AQI_Bucket  24850 non-null  object \n",
            "dtypes: float64(13), object(3)\n",
            "memory usage: 3.6+ MB\n"
          ]
        }
      ]
    },
    {
      "cell_type": "code",
      "source": [
        "df.isnull().sum()"
      ],
      "metadata": {
        "colab": {
          "base_uri": "https://localhost:8080/"
        },
        "id": "L_oaeHNh4Udh",
        "outputId": "9d4cf177-60ec-4f9a-a320-14b0221d7525"
      },
      "execution_count": 49,
      "outputs": [
        {
          "output_type": "execute_result",
          "data": {
            "text/plain": [
              "City              0\n",
              "Date              0\n",
              "PM2.5          4598\n",
              "PM10          11140\n",
              "NO             3582\n",
              "NO2            3585\n",
              "NOx            4185\n",
              "NH3           10328\n",
              "CO             2059\n",
              "SO2            3854\n",
              "O3             4022\n",
              "Benzene        5623\n",
              "Toluene        8041\n",
              "Xylene        18109\n",
              "AQI            4681\n",
              "AQI_Bucket     4681\n",
              "dtype: int64"
            ]
          },
          "metadata": {},
          "execution_count": 49
        }
      ]
    },
    {
      "cell_type": "code",
      "source": [
        "for i in df.columns:\n",
        "    print('column name:{}    unique values:{}'.format(i,df[i].nunique()))"
      ],
      "metadata": {
        "colab": {
          "base_uri": "https://localhost:8080/"
        },
        "id": "FcQi-zxh_gRy",
        "outputId": "2d13d4a5-2ab3-4ea3-e85b-cd1192832a3f"
      },
      "execution_count": 51,
      "outputs": [
        {
          "output_type": "stream",
          "name": "stdout",
          "text": [
            "column name:City    unique values:26\n",
            "column name:Date    unique values:2009\n",
            "column name:PM2.5    unique values:11716\n",
            "column name:PM10    unique values:12571\n",
            "column name:NO    unique values:5776\n",
            "column name:NO2    unique values:7404\n",
            "column name:NOx    unique values:8156\n",
            "column name:NH3    unique values:5922\n",
            "column name:CO    unique values:1779\n",
            "column name:SO2    unique values:4761\n",
            "column name:O3    unique values:7699\n",
            "column name:Benzene    unique values:1873\n",
            "column name:Toluene    unique values:3608\n",
            "column name:Xylene    unique values:1561\n",
            "column name:AQI    unique values:829\n",
            "column name:AQI_Bucket    unique values:6\n"
          ]
        }
      ]
    },
    {
      "cell_type": "code",
      "source": [
        "df['PM2.5']=df['PM2.5'].fillna(df['PM2.5'].mean())\n",
        "df['PM10']=df['PM10'].fillna(df['PM10'].mean())\n",
        "df['NO']=df['NO'].fillna(df['NO'].mean())\n",
        "df['NO2']=df['NO2'].fillna(df['NO2'].mean())\n",
        "df['NOx']=df['NOx'].fillna(df['NOx'].mean())\n",
        "df['NH3']=df['NH3'].fillna(df['NH3'].mean())\n",
        "df['CO']=df['CO'].fillna(df['CO'].mean())\n",
        "df['SO2']=df['SO2'].fillna(df['SO2'].mean())\n",
        "df['O3']=df['O3'].fillna(df['O3'].mean())\n",
        "df['Benzene']=df['Benzene'].fillna(df['Benzene'].mean())\n",
        "df['Toluene']=df['Toluene'].fillna(df['Toluene'].mean())\n",
        "df['Xylene']=df['Xylene'].fillna(df['Xylene'].mean())\n",
        "df['AQI']=df['AQI'].fillna(df['AQI'].mode()[0])\n",
        "df['AQI_Bucket']=df['AQI_Bucket'].fillna('Moderate')"
      ],
      "metadata": {
        "id": "7LiqH5AJ_r2C"
      },
      "execution_count": 52,
      "outputs": []
    },
    {
      "cell_type": "markdown",
      "source": [],
      "metadata": {
        "id": "sq7j3_KxBG8H"
      }
    },
    {
      "cell_type": "code",
      "source": [
        "# WE ARE FILLING MISSING VALUES IN 2 DIFFERENT CATEGORIES\n",
        "\n",
        "# FOR NUMERIC VALUES : MEAN()\n",
        "\n",
        "# FOR CATEGORICAL VALUES : MODE()"
      ],
      "metadata": {
        "id": "uYdGtLbJBB_E"
      },
      "execution_count": 55,
      "outputs": []
    },
    {
      "cell_type": "code",
      "source": [
        "df.isnull().sum()"
      ],
      "metadata": {
        "colab": {
          "base_uri": "https://localhost:8080/"
        },
        "id": "cU7ZQL7-BJBj",
        "outputId": "b409822f-072a-497d-b32a-fcbaf36c67b4"
      },
      "execution_count": 56,
      "outputs": [
        {
          "output_type": "execute_result",
          "data": {
            "text/plain": [
              "City          0\n",
              "Date          0\n",
              "PM2.5         0\n",
              "PM10          0\n",
              "NO            0\n",
              "NO2           0\n",
              "NOx           0\n",
              "NH3           0\n",
              "CO            0\n",
              "SO2           0\n",
              "O3            0\n",
              "Benzene       0\n",
              "Toluene       0\n",
              "Xylene        0\n",
              "AQI           0\n",
              "AQI_Bucket    0\n",
              "dtype: int64"
            ]
          },
          "metadata": {},
          "execution_count": 56
        }
      ]
    },
    {
      "cell_type": "code",
      "source": [
        "# Population in each city"
      ],
      "metadata": {
        "id": "5Ld3i4N-BxIT"
      },
      "execution_count": 57,
      "outputs": []
    },
    {
      "cell_type": "code",
      "source": [
        "Avg_polluted = df[['City', 'AQI', 'PM10', 'CO']].groupby(['City']).mean().sort_values(by = 'AQI', ascending = False)\n",
        "Avg_polluted"
      ],
      "metadata": {
        "colab": {
          "base_uri": "https://localhost:8080/",
          "height": 896
        },
        "id": "5UnvN5fcCHK9",
        "outputId": "36f881d3-cdb1-4ab8-c880-87109627ae94"
      },
      "execution_count": 58,
      "outputs": [
        {
          "output_type": "execute_result",
          "data": {
            "text/plain": [
              "                           AQI        PM10         CO\n",
              "City                                                 \n",
              "Ahmedabad           334.485814  117.409318  16.147420\n",
              "Delhi               258.703833  228.413747   1.976053\n",
              "Lucknow             211.276755  118.127103   2.131976\n",
              "Patna               210.979010  119.013316   1.591700\n",
              "Gurugram            208.550923  150.467320   1.321857\n",
              "Talcher             155.490811  156.552639   1.911862\n",
              "Jorapokhar          139.759624  142.240508   1.358846\n",
              "Guwahati            139.579681  116.604900   0.738284\n",
              "Brajrajnagar        138.699360  123.094114   1.870288\n",
              "Kolkata             137.723587  115.798256   0.799251\n",
              "Jaipur              133.110413  123.416193   0.809991\n",
              "Bhopal              131.653979  119.287038   0.923001\n",
              "Amritsar            118.526618  115.353495   0.656948\n",
              "Visakhapatnam       114.230506  107.916796   0.777069\n",
              "Chennai             113.724739  109.815308   1.082048\n",
              "Hyderabad           108.754736   96.567339   0.594912\n",
              "Kochi               104.228395   67.335432   1.296667\n",
              "Mumbai              103.293181  110.006396   0.589271\n",
              "Chandigarh           96.588816   85.656546   0.631349\n",
              "Amaravati            96.074658   78.777456   0.793211\n",
              "Bengaluru            94.696864   89.494244   1.840878\n",
              "Ernakulam            92.895062   50.058879   1.643175\n",
              "Thiruvananthapuram   77.287770   55.093885   0.970043\n",
              "Coimbatore           76.176166   39.435543   0.959419\n",
              "Shillong             70.122581   59.099258   0.453528\n",
              "Aizawl               35.955752   24.191567   0.283628"
            ],
            "text/html": [
              "\n",
              "  <div id=\"df-d1847b62-063f-4abc-9681-c8081bbb5590\">\n",
              "    <div class=\"colab-df-container\">\n",
              "      <div>\n",
              "<style scoped>\n",
              "    .dataframe tbody tr th:only-of-type {\n",
              "        vertical-align: middle;\n",
              "    }\n",
              "\n",
              "    .dataframe tbody tr th {\n",
              "        vertical-align: top;\n",
              "    }\n",
              "\n",
              "    .dataframe thead th {\n",
              "        text-align: right;\n",
              "    }\n",
              "</style>\n",
              "<table border=\"1\" class=\"dataframe\">\n",
              "  <thead>\n",
              "    <tr style=\"text-align: right;\">\n",
              "      <th></th>\n",
              "      <th>AQI</th>\n",
              "      <th>PM10</th>\n",
              "      <th>CO</th>\n",
              "    </tr>\n",
              "    <tr>\n",
              "      <th>City</th>\n",
              "      <th></th>\n",
              "      <th></th>\n",
              "      <th></th>\n",
              "    </tr>\n",
              "  </thead>\n",
              "  <tbody>\n",
              "    <tr>\n",
              "      <th>Ahmedabad</th>\n",
              "      <td>334.485814</td>\n",
              "      <td>117.409318</td>\n",
              "      <td>16.147420</td>\n",
              "    </tr>\n",
              "    <tr>\n",
              "      <th>Delhi</th>\n",
              "      <td>258.703833</td>\n",
              "      <td>228.413747</td>\n",
              "      <td>1.976053</td>\n",
              "    </tr>\n",
              "    <tr>\n",
              "      <th>Lucknow</th>\n",
              "      <td>211.276755</td>\n",
              "      <td>118.127103</td>\n",
              "      <td>2.131976</td>\n",
              "    </tr>\n",
              "    <tr>\n",
              "      <th>Patna</th>\n",
              "      <td>210.979010</td>\n",
              "      <td>119.013316</td>\n",
              "      <td>1.591700</td>\n",
              "    </tr>\n",
              "    <tr>\n",
              "      <th>Gurugram</th>\n",
              "      <td>208.550923</td>\n",
              "      <td>150.467320</td>\n",
              "      <td>1.321857</td>\n",
              "    </tr>\n",
              "    <tr>\n",
              "      <th>Talcher</th>\n",
              "      <td>155.490811</td>\n",
              "      <td>156.552639</td>\n",
              "      <td>1.911862</td>\n",
              "    </tr>\n",
              "    <tr>\n",
              "      <th>Jorapokhar</th>\n",
              "      <td>139.759624</td>\n",
              "      <td>142.240508</td>\n",
              "      <td>1.358846</td>\n",
              "    </tr>\n",
              "    <tr>\n",
              "      <th>Guwahati</th>\n",
              "      <td>139.579681</td>\n",
              "      <td>116.604900</td>\n",
              "      <td>0.738284</td>\n",
              "    </tr>\n",
              "    <tr>\n",
              "      <th>Brajrajnagar</th>\n",
              "      <td>138.699360</td>\n",
              "      <td>123.094114</td>\n",
              "      <td>1.870288</td>\n",
              "    </tr>\n",
              "    <tr>\n",
              "      <th>Kolkata</th>\n",
              "      <td>137.723587</td>\n",
              "      <td>115.798256</td>\n",
              "      <td>0.799251</td>\n",
              "    </tr>\n",
              "    <tr>\n",
              "      <th>Jaipur</th>\n",
              "      <td>133.110413</td>\n",
              "      <td>123.416193</td>\n",
              "      <td>0.809991</td>\n",
              "    </tr>\n",
              "    <tr>\n",
              "      <th>Bhopal</th>\n",
              "      <td>131.653979</td>\n",
              "      <td>119.287038</td>\n",
              "      <td>0.923001</td>\n",
              "    </tr>\n",
              "    <tr>\n",
              "      <th>Amritsar</th>\n",
              "      <td>118.526618</td>\n",
              "      <td>115.353495</td>\n",
              "      <td>0.656948</td>\n",
              "    </tr>\n",
              "    <tr>\n",
              "      <th>Visakhapatnam</th>\n",
              "      <td>114.230506</td>\n",
              "      <td>107.916796</td>\n",
              "      <td>0.777069</td>\n",
              "    </tr>\n",
              "    <tr>\n",
              "      <th>Chennai</th>\n",
              "      <td>113.724739</td>\n",
              "      <td>109.815308</td>\n",
              "      <td>1.082048</td>\n",
              "    </tr>\n",
              "    <tr>\n",
              "      <th>Hyderabad</th>\n",
              "      <td>108.754736</td>\n",
              "      <td>96.567339</td>\n",
              "      <td>0.594912</td>\n",
              "    </tr>\n",
              "    <tr>\n",
              "      <th>Kochi</th>\n",
              "      <td>104.228395</td>\n",
              "      <td>67.335432</td>\n",
              "      <td>1.296667</td>\n",
              "    </tr>\n",
              "    <tr>\n",
              "      <th>Mumbai</th>\n",
              "      <td>103.293181</td>\n",
              "      <td>110.006396</td>\n",
              "      <td>0.589271</td>\n",
              "    </tr>\n",
              "    <tr>\n",
              "      <th>Chandigarh</th>\n",
              "      <td>96.588816</td>\n",
              "      <td>85.656546</td>\n",
              "      <td>0.631349</td>\n",
              "    </tr>\n",
              "    <tr>\n",
              "      <th>Amaravati</th>\n",
              "      <td>96.074658</td>\n",
              "      <td>78.777456</td>\n",
              "      <td>0.793211</td>\n",
              "    </tr>\n",
              "    <tr>\n",
              "      <th>Bengaluru</th>\n",
              "      <td>94.696864</td>\n",
              "      <td>89.494244</td>\n",
              "      <td>1.840878</td>\n",
              "    </tr>\n",
              "    <tr>\n",
              "      <th>Ernakulam</th>\n",
              "      <td>92.895062</td>\n",
              "      <td>50.058879</td>\n",
              "      <td>1.643175</td>\n",
              "    </tr>\n",
              "    <tr>\n",
              "      <th>Thiruvananthapuram</th>\n",
              "      <td>77.287770</td>\n",
              "      <td>55.093885</td>\n",
              "      <td>0.970043</td>\n",
              "    </tr>\n",
              "    <tr>\n",
              "      <th>Coimbatore</th>\n",
              "      <td>76.176166</td>\n",
              "      <td>39.435543</td>\n",
              "      <td>0.959419</td>\n",
              "    </tr>\n",
              "    <tr>\n",
              "      <th>Shillong</th>\n",
              "      <td>70.122581</td>\n",
              "      <td>59.099258</td>\n",
              "      <td>0.453528</td>\n",
              "    </tr>\n",
              "    <tr>\n",
              "      <th>Aizawl</th>\n",
              "      <td>35.955752</td>\n",
              "      <td>24.191567</td>\n",
              "      <td>0.283628</td>\n",
              "    </tr>\n",
              "  </tbody>\n",
              "</table>\n",
              "</div>\n",
              "      <button class=\"colab-df-convert\" onclick=\"convertToInteractive('df-d1847b62-063f-4abc-9681-c8081bbb5590')\"\n",
              "              title=\"Convert this dataframe to an interactive table.\"\n",
              "              style=\"display:none;\">\n",
              "        \n",
              "  <svg xmlns=\"http://www.w3.org/2000/svg\" height=\"24px\"viewBox=\"0 0 24 24\"\n",
              "       width=\"24px\">\n",
              "    <path d=\"M0 0h24v24H0V0z\" fill=\"none\"/>\n",
              "    <path d=\"M18.56 5.44l.94 2.06.94-2.06 2.06-.94-2.06-.94-.94-2.06-.94 2.06-2.06.94zm-11 1L8.5 8.5l.94-2.06 2.06-.94-2.06-.94L8.5 2.5l-.94 2.06-2.06.94zm10 10l.94 2.06.94-2.06 2.06-.94-2.06-.94-.94-2.06-.94 2.06-2.06.94z\"/><path d=\"M17.41 7.96l-1.37-1.37c-.4-.4-.92-.59-1.43-.59-.52 0-1.04.2-1.43.59L10.3 9.45l-7.72 7.72c-.78.78-.78 2.05 0 2.83L4 21.41c.39.39.9.59 1.41.59.51 0 1.02-.2 1.41-.59l7.78-7.78 2.81-2.81c.8-.78.8-2.07 0-2.86zM5.41 20L4 18.59l7.72-7.72 1.47 1.35L5.41 20z\"/>\n",
              "  </svg>\n",
              "      </button>\n",
              "      \n",
              "  <style>\n",
              "    .colab-df-container {\n",
              "      display:flex;\n",
              "      flex-wrap:wrap;\n",
              "      gap: 12px;\n",
              "    }\n",
              "\n",
              "    .colab-df-convert {\n",
              "      background-color: #E8F0FE;\n",
              "      border: none;\n",
              "      border-radius: 50%;\n",
              "      cursor: pointer;\n",
              "      display: none;\n",
              "      fill: #1967D2;\n",
              "      height: 32px;\n",
              "      padding: 0 0 0 0;\n",
              "      width: 32px;\n",
              "    }\n",
              "\n",
              "    .colab-df-convert:hover {\n",
              "      background-color: #E2EBFA;\n",
              "      box-shadow: 0px 1px 2px rgba(60, 64, 67, 0.3), 0px 1px 3px 1px rgba(60, 64, 67, 0.15);\n",
              "      fill: #174EA6;\n",
              "    }\n",
              "\n",
              "    [theme=dark] .colab-df-convert {\n",
              "      background-color: #3B4455;\n",
              "      fill: #D2E3FC;\n",
              "    }\n",
              "\n",
              "    [theme=dark] .colab-df-convert:hover {\n",
              "      background-color: #434B5C;\n",
              "      box-shadow: 0px 1px 3px 1px rgba(0, 0, 0, 0.15);\n",
              "      filter: drop-shadow(0px 1px 2px rgba(0, 0, 0, 0.3));\n",
              "      fill: #FFFFFF;\n",
              "    }\n",
              "  </style>\n",
              "\n",
              "      <script>\n",
              "        const buttonEl =\n",
              "          document.querySelector('#df-d1847b62-063f-4abc-9681-c8081bbb5590 button.colab-df-convert');\n",
              "        buttonEl.style.display =\n",
              "          google.colab.kernel.accessAllowed ? 'block' : 'none';\n",
              "\n",
              "        async function convertToInteractive(key) {\n",
              "          const element = document.querySelector('#df-d1847b62-063f-4abc-9681-c8081bbb5590');\n",
              "          const dataTable =\n",
              "            await google.colab.kernel.invokeFunction('convertToInteractive',\n",
              "                                                     [key], {});\n",
              "          if (!dataTable) return;\n",
              "\n",
              "          const docLinkHtml = 'Like what you see? Visit the ' +\n",
              "            '<a target=\"_blank\" href=https://colab.research.google.com/notebooks/data_table.ipynb>data table notebook</a>'\n",
              "            + ' to learn more about interactive tables.';\n",
              "          element.innerHTML = '';\n",
              "          dataTable['output_type'] = 'display_data';\n",
              "          await google.colab.output.renderOutput(dataTable, element);\n",
              "          const docLink = document.createElement('div');\n",
              "          docLink.innerHTML = docLinkHtml;\n",
              "          element.appendChild(docLink);\n",
              "        }\n",
              "      </script>\n",
              "    </div>\n",
              "  </div>\n",
              "  "
            ]
          },
          "metadata": {},
          "execution_count": 58
        }
      ]
    },
    {
      "cell_type": "code",
      "source": [
        "# highly polution city are Ahmedabad, Delhi, Lucknow"
      ],
      "metadata": {
        "id": "vsygS80uCYjI"
      },
      "execution_count": 59,
      "outputs": []
    },
    {
      "cell_type": "code",
      "source": [
        "sns.barplot(Avg_polluted.AQI,Avg_polluted.index)\n",
        "plt.title('AQI')"
      ],
      "metadata": {
        "colab": {
          "base_uri": "https://localhost:8080/",
          "height": 367
        },
        "id": "vD00h0O8C1ne",
        "outputId": "0eb9e4a6-e3ed-4d4b-bdbe-dae067a328f6"
      },
      "execution_count": 63,
      "outputs": [
        {
          "output_type": "stream",
          "name": "stderr",
          "text": [
            "/usr/local/lib/python3.7/dist-packages/seaborn/_decorators.py:43: FutureWarning: Pass the following variables as keyword args: x, y. From version 0.12, the only valid positional argument will be `data`, and passing other arguments without an explicit keyword will result in an error or misinterpretation.\n",
            "  FutureWarning\n"
          ]
        },
        {
          "output_type": "execute_result",
          "data": {
            "text/plain": [
              "Text(0.5, 1.0, 'AQI')"
            ]
          },
          "metadata": {},
          "execution_count": 63
        },
        {
          "output_type": "display_data",
          "data": {
            "text/plain": [
              "<Figure size 432x288 with 1 Axes>"
            ],
            "image/png": "[encoded data removed]"
          },
          "metadata": {
            "needs_background": "light"
          }
        }
      ]
    },
    {
      "cell_type": "code",
      "source": [
        "sns.barplot(x = Avg_polluted.PM10,y = Avg_polluted.index)\n",
        "plt.title('pm10')"
      ],
      "metadata": {
        "colab": {
          "base_uri": "https://localhost:8080/",
          "height": 312
        },
        "id": "OUBVVYIgDH-u",
        "outputId": "d84813d9-6585-4956-9d06-610537ab3ba1"
      },
      "execution_count": 64,
      "outputs": [
        {
          "output_type": "execute_result",
          "data": {
            "text/plain": [
              "Text(0.5, 1.0, 'pm10')"
            ]
          },
          "metadata": {},
          "execution_count": 64
        },
        {
          "output_type": "display_data",
          "data": {
            "text/plain": [
              "<Figure size 432x288 with 1 Axes>"
            ],
            "image/png": "[encoded data removed]"
          },
          "metadata": {
            "needs_background": "light"
          }
        }
      ]
    },
    {
      "cell_type": "code",
      "source": [
        "sns.barplot(x = Avg_polluted.CO,y = Avg_polluted.index)\n",
        "plt.title('CO')"
      ],
      "metadata": {
        "colab": {
          "base_uri": "https://localhost:8080/",
          "height": 312
        },
        "id": "FZ4WpiOBDbHc",
        "outputId": "1e9bfb51-5935-4da5-f7af-26ff7aaf6645"
      },
      "execution_count": 66,
      "outputs": [
        {
          "output_type": "execute_result",
          "data": {
            "text/plain": [
              "Text(0.5, 1.0, 'CO')"
            ]
          },
          "metadata": {},
          "execution_count": 66
        },
        {
          "output_type": "display_data",
          "data": {
            "text/plain": [
              "<Figure size 432x288 with 1 Axes>"
            ],
            "image/png": "[encoded data removed]"
          },
          "metadata": {
            "needs_background": "light"
          }
        }
      ]
    },
    {
      "cell_type": "code",
      "source": [],
      "metadata": {
        "id": "tNOxKXm0DhHw"
      },
      "execution_count": 66,
      "outputs": []
    }
  ],
  "metadata": {
    "colab": {
      "collapsed_sections": [],
      "provenance": [],
      "authorship_tag": "ABX9TyMcUfgl+C8gBjuStRXe2BOr",
      "include_colab_link": true
    },
    "kernelspec": {
      "display_name": "Python 3",
      "name": "python3"
    },
    "language_info": {
      "name": "python"
    }
  },
  "nbformat": 4,
  "nbformat_minor": 0
}